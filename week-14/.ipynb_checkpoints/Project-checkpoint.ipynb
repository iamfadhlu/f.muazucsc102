{
 "cells": [
  {
   "cell_type": "code",
   "execution_count": 6,
   "id": "226761c6",
   "metadata": {},
   "outputs": [
    {
     "name": "stdout",
     "output_type": "stream",
     "text": [
      "Enter Full Name:Awele Chizim\n",
      "Matric Number:22120612972\n",
      "Department:Computer Science\n",
      "Level:100\n",
      "Your data has been added to the file!\n"
     ]
    }
   ],
   "source": [
    "#Project 1\n",
    "import pandas as pd\n",
    "\n",
    "class SIMS():\n",
    "    name = input('Enter Full Name:')\n",
    "    mat = input('Matric Number:')\n",
    "    dept = input('Department:')\n",
    "    level = input('Level:')\n",
    "\n",
    "    def stud_data(self):\n",
    "        stud_name = ['Oluchi Mordi', 'Adams Aliyu', 'Shania Bolanle', 'Adekunle Gold', 'Blanca Edemoh']\n",
    "        stud_mat = ['ACC10211111', 'ECO10110101', 'CSC10328828', 'EEE11020202', 'MEE10202001']\n",
    "        stud_dept = ['Accounting', 'Economics', 'Computer Science', 'Electrical Engineering', 'Mechanical Engineering']\n",
    "        stud_level = ['300', '100', '200', '200', '100']\n",
    "        \n",
    "        stud_name.append(name)\n",
    "        stud_mat.append(mat)\n",
    "        stud_dept.append(dept)\n",
    "        stud_level.append(level)\n",
    "        \n",
    "        student_data = {'Student Name': stud_name, 'Matric No.': stud_mat, 'Department': stud_dept, 'Level': stud_level}\n",
    "        \n",
    "        data = pd.DataFrame(student_data)\n",
    "        data.to_csv('PAU_SIMS.csv')\n",
    "        \n",
    "    def confirmation(self):\n",
    "        print('Your data has been added to the file!')\n",
    "\n",
    "        \n",
    "a = SIMS()\n",
    "a.stud_data()\n",
    "a.confirmation()"
   ]
  },
  {
   "cell_type": "code",
   "execution_count": 1,
   "id": "e41250c4",
   "metadata": {},
   "outputs": [
    {
     "name": "stdout",
     "output_type": "stream",
     "text": [
      "Your company data has been created!\n"
     ]
    }
   ],
   "source": [
    "#Project 2\n",
    "import pandas as pd\n",
    "\n",
    "class Company():\n",
    "    def company_data(self):\n",
    "        comp_name = ['Enron Corporation', 'Anderson Corporation', 'GK Jones', 'Mica Industries', 'Dune Industries']\n",
    "        comp_yr = ['1987', '1936', '2001', '1996', '2008']\n",
    "        comp_shares = [1000000, 1500000, 3000000, 250000, 800000]\n",
    "        comp_lia = [200000, 500000, 1500000, 50000, 300000]\n",
    "        comp_lev = []\n",
    "        \n",
    "        for i in range(len(comp_lia)):\n",
    "            lev = ((comp_shares[i] - comp_lia[i]) / comp_shares[i]) * 100\n",
    "            comp_lev.append(lev)\n",
    "        \n",
    "        comp_data = {'Company Name': comp_name, 'Year Founded': comp_yr, 'Company Shares': comp_shares, 'Company Liability': comp_lia, 'Company Leverage (in %)': comp_lev}\n",
    "        \n",
    "        data = pd.DataFrame(comp_data)\n",
    "        data.to_csv('company_data.csv')\n",
    "        \n",
    "    def confirmation(self):\n",
    "        print('Your company data has been created!')\n",
    "\n",
    "        \n",
    "a = Company()\n",
    "a.company_data()\n",
    "a.confirmation()"
   ]
  },
  {
   "cell_type": "code",
   "execution_count": null,
   "id": "1bdc3952",
   "metadata": {},
   "outputs": [],
   "source": []
  }
 ],
 "metadata": {
  "kernelspec": {
   "display_name": "Python 3 (ipykernel)",
   "language": "python",
   "name": "python3"
  },
  "language_info": {
   "codemirror_mode": {
    "name": "ipython",
    "version": 3
   },
   "file_extension": ".py",
   "mimetype": "text/x-python",
   "name": "python",
   "nbconvert_exporter": "python",
   "pygments_lexer": "ipython3",
   "version": "3.10.9"
  }
 },
 "nbformat": 4,
 "nbformat_minor": 5
}

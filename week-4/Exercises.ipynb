{
 "cells": [
  {
   "cell_type": "code",
   "execution_count": 1,
   "id": "95d4e1b1",
   "metadata": {},
   "outputs": [
    {
     "name": "stdout",
     "output_type": "stream",
     "text": [
      "Enter name of City 1: Halo\n",
      "Enter name of City 2: Olah\n",
      "The name of City 1 after swapping is Olah\n",
      "The name of City 2 after swapping is Halo\n"
     ]
    }
   ],
   "source": [
    "city_1 = input(\"Enter name of City 1: \")\n",
    "city_2 = input(\"Enter name of City 2: \")\n",
    "QWE = city_1\n",
    "city_1 = city_2\n",
    "city_2 = QWE\n",
    "print(f\"The name of City 1 after swapping is {city_1}\")\n",
    "print(f\"The name of City 2 after swapping is {city_2}\")"
   ]
  },
  {
   "cell_type": "code",
   "execution_count": 2,
   "id": "316e0468",
   "metadata": {},
   "outputs": [
    {
     "name": "stdout",
     "output_type": "stream",
     "text": [
      "Enter a number: 120i\n"
     ]
    },
    {
     "ename": "ValueError",
     "evalue": "could not convert string to float: '120i'",
     "output_type": "error",
     "traceback": [
      "\u001b[1;31m---------------------------------------------------------------------------\u001b[0m",
      "\u001b[1;31mValueError\u001b[0m                                Traceback (most recent call last)",
      "Cell \u001b[1;32mIn[2], line 1\u001b[0m\n\u001b[1;32m----> 1\u001b[0m num \u001b[38;5;241m=\u001b[39m \u001b[38;5;28;43mfloat\u001b[39;49m\u001b[43m(\u001b[49m\u001b[38;5;28;43minput\u001b[39;49m\u001b[43m(\u001b[49m\u001b[38;5;124;43m\"\u001b[39;49m\u001b[38;5;124;43mEnter a number: \u001b[39;49m\u001b[38;5;124;43m\"\u001b[39;49m\u001b[43m)\u001b[49m\u001b[43m)\u001b[49m\n\u001b[0;32m      2\u001b[0m \u001b[38;5;28;01mif\u001b[39;00m num \u001b[38;5;241m>\u001b[39m \u001b[38;5;241m0\u001b[39m:\n\u001b[0;32m      3\u001b[0m     \u001b[38;5;28mprint\u001b[39m(\u001b[38;5;124m\"\u001b[39m\u001b[38;5;124mPositive number\u001b[39m\u001b[38;5;124m\"\u001b[39m)\n",
      "\u001b[1;31mValueError\u001b[0m: could not convert string to float: '120i'"
     ]
    }
   ],
   "source": [
    "num = float(input(\"Enter a number: \"))\n",
    "if num > 0:\n",
    "    print(\"Positive number\")\n",
    "elif num == 0:\n",
    "    print(\"Zero\")\n",
    "else:\n",
    "    print(\"Negative number\")\n",
    "    \n",
    "    "
   ]
  },
  {
   "cell_type": "code",
   "execution_count": 3,
   "id": "21b325c4",
   "metadata": {},
   "outputs": [
    {
     "name": "stdout",
     "output_type": "stream",
     "text": [
      "Welcome to the COUPE DE ESCRIVA 2023: FOOTBALL PICKS \n",
      "\n",
      "Madiba:  Çhubby Obiora-Okafo\n",
      "Blue-Jays:  Christopher Uweh\n",
      "Cirok:  Alexander\n",
      "TSG Walkers:  Ikechukwu\n",
      "\n",
      "\n",
      "Madiba:  Chubby Obiora-Okafor\n",
      "Blue-Jays:  Olamideji Abaniwondea/Jeffery Awagu\n",
      "Cirok:  Timileyin Pearse/Izuako Jeremy\n",
      "TSG Walkers:  Ayomide Ojituku\n"
     ]
    }
   ],
   "source": [
    "print(\"Welcome to the COUPE DE ESCRIVA 2023: FOOTBALL PICKS \\n\")\n",
    "captain = {'Madiba: ':'Çhubby Obiora-Okafo', 'Blue-Jays: ': 'Christopher Uweh',\n",
    "          'Cirok: ': 'Alexander', 'TSG Walkers: ': 'Ikechukwu'}\n",
    "goalkeepers = {'Madiba: ':'Chubby Obiora-Okafor', 'Blue-Jays: ': 'Olamideji Abaniwondea/Jeffery Awagu',\n",
    "            'Cirok: ': 'Timileyin Pearse/Izuako Jeremy', 'TSG Walkers: ': 'Ayomide Ojituku'}\n",
    "\n",
    "for pick in captain:\n",
    "    print(pick, captain[pick])\n",
    "print(\"\\n\")\n",
    "for pick in goalkeepers:\n",
    "    print(pick, goalkeepers[pick])"
   ]
  },
  {
   "cell_type": "markdown",
   "id": "a72ae1ab",
   "metadata": {},
   "source": [
    "print(\"FINTECH\\nAnnual Tax Revenue (ATR)\")\n",
    "for i in range(2500):\n",
    "    yoe = float(input(\"How many years of experience do you have? \"))\n",
    "    age = float(input(\"What is your age? \"))\n",
    "    if yoe > 25 && age >= 55:\n",
    "        print(\"Your ATR is N5,600,000\")\n",
    "    elif yoe > 20 && age >= 45:\n",
    "        print(\"Your ATR is N4,480,000\")\n",
    "    elif yoe > 10 && age >= 35:\n",
    "        print(\"Your ATR is N1,500,00\")\n",
    "    elif yoe < 10 && age < 35:\n",
    "        print(\"Your ATR is N550,000\")\n",
    "    else:\n",
    "        print(\"Your details are not in our criteria range\")"
   ]
  },
  {
   "cell_type": "code",
   "execution_count": null,
   "id": "6ca44739",
   "metadata": {},
   "outputs": [],
   "source": []
  }
 ],
 "metadata": {
  "kernelspec": {
   "display_name": "Python 3 (ipykernel)",
   "language": "python",
   "name": "python3"
  },
  "language_info": {
   "codemirror_mode": {
    "name": "ipython",
    "version": 3
   },
   "file_extension": ".py",
   "mimetype": "text/x-python",
   "name": "python",
   "nbconvert_exporter": "python",
   "pygments_lexer": "ipython3",
   "version": "3.10.9"
  }
 },
 "nbformat": 4,
 "nbformat_minor": 5
}

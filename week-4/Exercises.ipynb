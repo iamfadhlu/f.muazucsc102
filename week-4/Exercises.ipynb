{
 "cells": [
  {
   "cell_type": "code",
   "execution_count": 1,
   "id": "95d4e1b1",
   "metadata": {},
   "outputs": [
    {
     "name": "stdout",
     "output_type": "stream",
     "text": [
      "Enter name of City 1: Fromeo\n",
      "Enter name of City 2: Ashabi\n",
      "The name of City 1 after swapping is Ashabi\n",
      "The name of City 2 after swapping is Fromeo\n"
     ]
    }
   ],
   "source": [
    "city_1 = input(\"Enter name of City 1: \")\n",
    "city_2 = input(\"Enter name of City 2: \")\n",
    "temp = city_1\n",
    "city_1 = city_2\n",
    "city_2 = temp\n",
    "print(f\"The name of City 1 after swapping is {city_1}\")\n",
    "print(f\"The name of City 2 after swapping is {city_2}\")"
   ]
  },
  {
   "cell_type": "code",
   "execution_count": 4,
   "id": "316e0468",
   "metadata": {},
   "outputs": [
    {
     "name": "stdout",
     "output_type": "stream",
     "text": [
      "Enter a number: 35\n",
      "Positive number\n"
     ]
    }
   ],
   "source": [
    "num = float(input(\"Enter a number: \"))\n",
    "if num > 0:\n",
    "    print(\"Positive number\")\n",
    "elif num == 0:\n",
    "    print(\"Zero\")\n",
    "else:\n",
    "    print(\"Negative number\")\n",
    "    \n",
    "    "
   ]
  },
  {
   "cell_type": "code",
   "execution_count": 5,
   "id": "21b325c4",
   "metadata": {},
   "outputs": [
    {
     "name": "stdout",
     "output_type": "stream",
     "text": [
      "Welcome to the COUPE DE ESCRIVA 2023: FOOTBALL PICKS \n",
      "\n",
      "Madiba:  Çhubby Obiora-Okafo\n",
      "Blue-Jays:  Christopher Uweh\n",
      "Cirok:  Alexander\n",
      "TSG Walkers:  Ikechukwu\n",
      "\n",
      "\n",
      "Madiba:  Chubby Obiora-Okafor\n",
      "Blue-Jays:  Olamideji Abaniwondea/Jeffery Awagu\n",
      "Cirok:  Timileyin Pearse/Izuako Jeremy\n",
      "TSG Walkers:  Ayomide Ojituku\n"
     ]
    }
   ],
   "source": [
    "print(\"Welcome to the COUPE DE ESCRIVA 2023: FOOTBALL PICKS \\n\")\n",
    "captain = {'Madiba: ':'Çhubby Obiora-Okafo', 'Blue-Jays: ': 'Christopher Uweh',\n",
    "          'Cirok: ': 'Alexander', 'TSG Walkers: ': 'Ikechukwu'}\n",
    "goalkeepers = {'Madiba: ':'Chubby Obiora-Okafor', 'Blue-Jays: ': 'Olamideji Abaniwondea/Jeffery Awagu',\n",
    "            'Cirok: ': 'Timileyin Pearse/Izuako Jeremy', 'TSG Walkers: ': 'Ayomide Ojituku'}\n",
    "\n",
    "for pick in captain:\n",
    "    print(pick, captain[pick])\n",
    "print(\"\\n\")\n",
    "for pick in goalkeepers:\n",
    "    print(pick, goalkeepers[pick])"
   ]
  },
  {
   "cell_type": "markdown",
   "id": "a72ae1ab",
   "metadata": {},
   "source": [
    "print(\"FINTECH\\nAnnual Tax Revenue (ATR)\")\n",
    "for i in range(2500):\n",
    "    yoe = float(input(\"How many years of experience do you have? \"))\n",
    "    age = float(input(\"What is your age? \"))\n",
    "    if yoe > 25 && age >= 55:\n",
    "        print(\"Your ATR is N5,600,000\")\n",
    "    elif yoe > 20 && age >= 45:\n",
    "        print(\"Your ATR is N4,480,000\")\n",
    "    elif yoe > 10 && age >= 35:\n",
    "        print(\"Your ATR is N1,500,00\")\n",
    "    elif yoe < 10 && age < 35:\n",
    "        print(\"Your ATR is N550,000\")\n",
    "    else:\n",
    "        print(\"Your details are not in our criteria range\")"
   ]
  },
  {
   "cell_type": "code",
   "execution_count": null,
   "id": "6ca44739",
   "metadata": {},
   "outputs": [],
   "source": []
  }
 ],
 "metadata": {
  "kernelspec": {
   "display_name": "Python 3 (ipykernel)",
   "language": "python",
   "name": "python3"
  },
  "language_info": {
   "codemirror_mode": {
    "name": "ipython",
    "version": 3
   },
   "file_extension": ".py",
   "mimetype": "text/x-python",
   "name": "python",
   "nbconvert_exporter": "python",
   "pygments_lexer": "ipython3",
   "version": "3.10.9"
  }
 },
 "nbformat": 4,
 "nbformat_minor": 5
}

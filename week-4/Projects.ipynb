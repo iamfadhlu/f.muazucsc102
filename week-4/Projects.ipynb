{
 "cells": [
  {
   "cell_type": "code",
   "execution_count": 16,
   "id": "5b626c5b",
   "metadata": {
    "scrolled": true
   },
   "outputs": [
    {
     "name": "stdout",
     "output_type": "stream",
     "text": [
      "DATA OF BOYS AND GIRLS IN CLASROOM-1 \n",
      " GIRLS\n",
      "-------\n",
      "Samantha  |  17 | 5.5 | 80\n",
      "Jada      |  16 | 6.0 | 85\n",
      "Jane      |  17 | 5.4 | 70\n",
      "Claire    |  18 | 5.9 | 60\n",
      "Elizabeth |  16 | 5.6 | 76\n",
      "Mary      |  18 | 5.5 | 66\n",
      "Susan     |  17 | 6.1 | 87\n",
      "Waje      |  20 | 6.0 | 95\n",
      "Taibat    |  19 | 5.7 | 50\n",
      "Lilian    |  17 | 5.5 | 49\n",
      "\n",
      "BOYS \n",
      "------\n",
      "Charles   |  19 | 5.7 | 74\n",
      "Jude      |  16 | 5.9 | 87\n",
      "James     |  17 | 5.8 | 75\n",
      "Kelvin    |  18 | 6.1 | 68\n",
      "Biodun    |  16 | 5.9 | 66\n",
      "Wale      |  18 | 5.5 | 78\n",
      "Kunle     |  17 | 6.1 | 87\n",
      "Matthew   |  20 | 5.4 | 98\n",
      "Tom       |  19 | 5.8 | 54\n",
      "Kayode    |  17 | 5.7 | 60\n"
     ]
    }
   ],
   "source": [
    "print(\"DATA OF BOYS AND GIRLS IN CLASROOM-1 \\n GIRLS\\n-------\")\n",
    "girls_data = {'Samantha  |':' 17 | 5.5 | 80',\n",
    "               'Jada      |':' 16 | 6.0 | 85',\n",
    "               'Jane      |':' 17 | 5.4 | 70',\n",
    "               'Claire    |':' 18 | 5.9 | 60',\n",
    "               'Elizabeth |':' 16 | 5.6 | 76',\n",
    "               'Mary      |':' 18 | 5.5 | 66',\n",
    "              'Susan     |':' 17 | 6.1 | 87',\n",
    "              'Waje      |':' 20 | 6.0 | 95',\n",
    "              'Taibat    |':' 19 | 5.7 | 50',\n",
    "              'Lilian    |':' 17 | 5.5 | 49',\n",
    "               }\n",
    "for pick in girls_data:\n",
    "    print(pick, girls_data[pick])\n",
    "print(\"\\nBOYS \\n------\")\n",
    "girls_data = {'Charles   |':' 19 | 5.7 | 74',\n",
    "               'Jude      |':' 16 | 5.9 | 87',\n",
    "               'James     |':' 17 | 5.8 | 75',\n",
    "               'Kelvin    |':' 18 | 6.1 | 68',\n",
    "               'Biodun    |':' 16 | 5.9 | 66',\n",
    "               'Wale      |':' 18 | 5.5 | 78',\n",
    "              'Kunle     |':' 17 | 6.1 | 87',\n",
    "              'Matthew   |':' 20 | 5.4 | 98',\n",
    "              'Tom       |':' 19 | 5.8 | 54',\n",
    "              'Kayode    |':' 17 | 5.7 | 60',\n",
    "               }\n",
    "for pick in girls_data:\n",
    "    print(pick, girls_data[pick])"
   ]
  },
  {
   "cell_type": "code",
   "execution_count": null,
   "id": "dee9b62a",
   "metadata": {},
   "outputs": [],
   "source": [
    "print(\"FINTECH\\nAnnual Tax Revenue (ATR)\")\n",
    "for i in range(2500):\n",
    "    yoe = float(input(\"How many years of experience do you have? \"))\n",
    "    age = float(input(\"What is your age? \"))\n",
    "    if yoe > 25 && age >= 55:\n",
    "        print(\"Your ATR is N5,600,000\")\n",
    "    elif yoe > 20 && age >= 45:\n",
    "        print(\"Your ATR is N4,480,000\")\n",
    "    elif yoe > 10 && age >= 35:\n",
    "        print(\"Your ATR is N1,500,00\")\n",
    "    elif yoe < 10 && age < 35:\n",
    "        print(\"Your ATR is N550,000\")\n",
    "    else:\n",
    "        print(\"Your details are not in our criteria range\")\n",
    "    "
   ]
  },
  {
   "cell_type": "code",
   "execution_count": null,
   "id": "844094ee",
   "metadata": {},
   "outputs": [],
   "source": []
  }
 ],
 "metadata": {
  "kernelspec": {
   "display_name": "Python 3 (ipykernel)",
   "language": "python",
   "name": "python3"
  },
  "language_info": {
   "codemirror_mode": {
    "name": "ipython",
    "version": 3
   },
   "file_extension": ".py",
   "mimetype": "text/x-python",
   "name": "python",
   "nbconvert_exporter": "python",
   "pygments_lexer": "ipython3",
   "version": "3.10.9"
  }
 },
 "nbformat": 4,
 "nbformat_minor": 5
}

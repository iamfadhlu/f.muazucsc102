{
 "cells": [
  {
   "cell_type": "code",
   "execution_count": 5,
   "id": "207fdafc",
   "metadata": {},
   "outputs": [],
   "source": [
    "import pandas as pd\n",
    "class project():\n",
    "    def pirates(self):\n",
    "        selected_rows = data.loc[(data['Age'] > 14) & (data['Age'] < 18)]\n",
    "        df1 = pd.DataFrame(selected_rows)\n",
    "        df1\n",
    "        df1.to_csv('The_Pirates.csv')\n",
    "        \n",
    "    def yankees(self):\n",
    "        selected_rows = data.loc[(data['Age'] > 18) & (data['Age'] < 22)]\n",
    "        df1 = pd.DataFrame(selected_rows)\n",
    "        df1\n",
    "        df1.to_csv('The_Yankees.csv')\n",
    "        \n",
    "    def bulls(self):\n",
    "        selected_rows = data.loc[(data['Age'] > 22)]\n",
    "        df1 = pd.DataFrame(selected_rows)\n",
    "        df1\n",
    "        df1.to_csv('The_Bulls.csv')\n",
    "        \n",
    "\n",
    "\n",
    "data = pd.read_csv(\"sis.csv\")\n",
    "run = project()\n",
    "run.pirates()\n",
    "run.yankees()\n",
    "run.bulls()\n",
    "\n",
    "\n"
   ]
  },
  {
   "cell_type": "code",
   "execution_count": null,
   "id": "be45e238",
   "metadata": {},
   "outputs": [],
   "source": []
  }
 ],
 "metadata": {
  "kernelspec": {
   "display_name": "Python 3 (ipykernel)",
   "language": "python",
   "name": "python3"
  },
  "language_info": {
   "codemirror_mode": {
    "name": "ipython",
    "version": 3
   },
   "file_extension": ".py",
   "mimetype": "text/x-python",
   "name": "python",
   "nbconvert_exporter": "python",
   "pygments_lexer": "ipython3",
   "version": "3.10.9"
  }
 },
 "nbformat": 4,
 "nbformat_minor": 5
}

{
 "cells": [
  {
   "cell_type": "code",
   "execution_count": 2,
   "id": "207fdafc",
   "metadata": {},
   "outputs": [
    {
     "name": "stdout",
     "output_type": "stream",
     "text": [
      "    MatNo               Name  Age  Grade\n",
      "0    1810       Aina Adeleke   16     80\n",
      "2    1812    Callistus Okeke   17     40\n",
      "5    1815    Stella Olohimen   17     44\n",
      "10   1820  Wilfred Nwachukwu   16     45\n",
      "11   1821      Mildred James   15     70\n",
      "\n",
      "The Pirates file has been created successfully\n",
      "    MatNo            Name  Age  Grade\n",
      "4    1814     Mary Akande   20     87\n",
      "12   1822  Glory Babalola   21     69\n",
      "14   1824   Godwin Osahon   20     51\n",
      "15   1825    Philip Odion   19     68\n",
      "\n",
      "The Yankees file has been created successfully\n",
      "   MatNo             Name  Age  Grade\n",
      "1   1811      Sola Egbune   23     55\n",
      "3   1813    Martin Alegbe   25     77\n",
      "7   1817  Durojaiye Adamu   24     60\n",
      "\n",
      "The Bulls file has been created successfully\n"
     ]
    }
   ],
   "source": [
    "import pandas as pd\n",
    "class project():\n",
    "    def pirates(self):\n",
    "        selected_rows = data.loc[(data['Age'] > 14) & (data['Age'] < 18)]\n",
    "        df1 = pd.DataFrame(selected_rows)\n",
    "        print(df1)\n",
    "        print()\n",
    "        df1.to_csv('The_Pirates.csv')\n",
    "        print(\"The Pirates file has been created successfully\")\n",
    "        \n",
    "    def yankees(self):\n",
    "        selected_rows = data.loc[(data['Age'] > 18) & (data['Age'] < 22)]\n",
    "        df1 = pd.DataFrame(selected_rows)\n",
    "        print(df1)\n",
    "        print()\n",
    "        df1.to_csv('The_Yankees.csv')\n",
    "        print(\"The Yankees file has been created successfully\")\n",
    "        \n",
    "    def bulls(self):\n",
    "        selected_rows = data.loc[(data['Age'] > 22)]\n",
    "        df1 = pd.DataFrame(selected_rows)\n",
    "        print(df1)\n",
    "        print()\n",
    "        df1.to_csv('The_Bulls.csv')\n",
    "        print(\"The Bulls file has been created successfully\")\n",
    "        \n",
    "\n",
    "\n",
    "data = pd.read_csv(\"sis.csv\")\n",
    "run = project()\n",
    "run.pirates()\n",
    "run.yankees()\n",
    "run.bulls()\n",
    "\n",
    "\n"
   ]
  },
  {
   "cell_type": "code",
   "execution_count": null,
   "id": "be45e238",
   "metadata": {},
   "outputs": [],
   "source": []
  }
 ],
 "metadata": {
  "kernelspec": {
   "display_name": "Python 3 (ipykernel)",
   "language": "python",
   "name": "python3"
  },
  "language_info": {
   "codemirror_mode": {
    "name": "ipython",
    "version": 3
   },
   "file_extension": ".py",
   "mimetype": "text/x-python",
   "name": "python",
   "nbconvert_exporter": "python",
   "pygments_lexer": "ipython3",
   "version": "3.10.9"
  }
 },
 "nbformat": 4,
 "nbformat_minor": 5
}

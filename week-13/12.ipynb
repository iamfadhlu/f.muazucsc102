{
 "cells": [
  {
   "cell_type": "code",
   "execution_count": null,
   "id": "46adc57f",
   "metadata": {},
   "outputs": [],
   "source": [
    "import pandas as pd\n",
    "\n",
    "data = []\n",
    "num = int(input(\"Enter the number of students: \"))\n",
    "for i in range(num):\n",
    "    PAUSMIS = {}\n",
    "    PAUSMIS['Student Name'] = input(\"Enter your name: \")\n",
    "    PAUSMIS['Matric.Number'] = input(\"Enter your Matric Number: \")\n",
    "    PAUSMIS['Department'] = input(\"Enter your Department: \")\n",
    "    PAUSMIS['Level'] = input(\"Enter your Level: \")\n",
    "    \n",
    "    data.append(PAUSMIS)\n",
    "\n",
    "df = pd.DataFrame(data)\n",
    "print(df)\n",
    "\n",
    "\n",
    "df.to_csv('PAU-SMIS.csv')"
   ]
  },
  {
   "cell_type": "code",
   "execution_count": null,
   "id": "fb8379cf",
   "metadata": {},
   "outputs": [],
   "source": []
  },
  {
   "cell_type": "code",
   "execution_count": null,
   "id": "1641ba2f",
   "metadata": {},
   "outputs": [],
   "source": []
  }
 ],
 "metadata": {},
 "nbformat": 4,
 "nbformat_minor": 5
}

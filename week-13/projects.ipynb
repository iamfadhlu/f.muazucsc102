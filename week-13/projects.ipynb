{
 "cells": [
  {
   "cell_type": "code",
   "execution_count": null,
   "id": "43ca2085",
   "metadata": {},
   "outputs": [],
   "source": [
    "import pandas as pd\n",
    "\n",
    "data = []\n",
    "num = int(input(\"Enter the number of students: \"))\n",
    "for i in range(num):\n",
    "    PAUSMIS = {}\n",
    "    PAUSMIS['Student Name'] = input(\"Enter your name: \")\n",
    "    PAUSMIS['Matric.Number'] = input(\"Enter your Matric Number: \")\n",
    "    PAUSMIS['Department'] = input(\"Enter your Department: \")\n",
    "    PAUSMIS['Level'] = input(\"Enter your Level: \")\n",
    "    \n",
    "    data.append(PAUSMIS)\n",
    "\n",
    "df = pd.DataFrame(data)\n",
    "print(df)\n",
    "\n",
    "\n",
    "df.to_csv('PAU-SMIS.csv')"
   ]
  },
  {
   "cell_type": "code",
   "execution_count": null,
   "id": "da0b382e",
   "metadata": {},
   "outputs": [],
   "source": [
    "import pandas as pd\n",
    "records = {'Company':[\"Enron\", \"Anderson\", \"GK Jones\", \"Mica\",\"Dune\"],\n",
    "        'Date Founded': [\"1987\", \"1936\", \"2001\", \"1996\",\"2008\"],\n",
    "        'assets':[1000000, 1500000, 3000000, 250000,800000],\n",
    "        'Company Liability':[200000,500000,1500000,50000,300000],\n",
    "        'Leverages(in %)':[80,67,50,80,63]}\n",
    "df = pd.DataFrame(records)\n",
    "\n",
    "df.to_csv('records.csv')"
   ]
  },
  {
   "cell_type": "code",
   "execution_count": null,
   "id": "5cd85ac7",
   "metadata": {},
   "outputs": [],
   "source": []
  }
 ],
 "metadata": {},
 "nbformat": 4,
 "nbformat_minor": 5
}

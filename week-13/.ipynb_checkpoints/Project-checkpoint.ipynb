{
 "cells": [
  {
   "cell_type": "code",
   "execution_count": 28,
   "id": "5e396ef0",
   "metadata": {},
   "outputs": [
    {
     "name": "stdout",
     "output_type": "stream",
     "text": [
      "Enter your name: ewhartej\n",
      "Enter your Matric Number: 75742\n",
      "Enter your Department: thad\n",
      "Enter your Level: 564373456\n",
      "Enter your name: ghjngdf\n",
      "Enter your Matric Number: 546734\n",
      "Enter your Department: gjfshrtj\n",
      "Enter your Level: 45724\n",
      "Enter your name: hgfdnh\n",
      "Enter your Matric Number: 4526724\n",
      "Enter your Department: hgrth\n",
      "Enter your Level: 645272645\n",
      "Enter your name: ghtrth\n",
      "Enter your Matric Number: 645327365\n",
      "Enter your Department: gfshsgf\n",
      "Enter your Level: 54262\n",
      "Enter your name: gthwr\n",
      "Enter your Matric Number: 5624624\n",
      "Enter your Department: ghsrt\n",
      "Enter your Level: 54236\n",
      "  Student Name Matric.Number Department      Level\n",
      "0     ewhartej         75742       thad  564373456\n",
      "1      ghjngdf        546734   gjfshrtj      45724\n",
      "2       hgfdnh       4526724      hgrth  645272645\n",
      "3       ghtrth     645327365    gfshsgf      54262\n",
      "4        gthwr       5624624      ghsrt      54236\n"
     ]
    }
   ],
   "source": [
    "import pandas as pd\n",
    "\n",
    "data = []\n",
    "for i in range(5):\n",
    "    PAUSMIS = {}\n",
    "    PAUSMIS['Student Name'] = input(\"Enter your name: \")\n",
    "    PAUSMIS['Matric.Number'] = input(\"Enter your Matric Number: \")\n",
    "    PAUSMIS['Department'] = input(\"Enter your Department: \")\n",
    "    PAUSMIS['Level'] = input(\"Enter your Level: \")\n",
    "    \n",
    "    data.append(PAUSMIS)\n",
    "\n",
    "df = pd.DataFrame(data)\n",
    "print(df)\n",
    "\n",
    "\n",
    "df.to_csv('PAU-SMIS.csv')"
   ]
  },
  {
   "cell_type": "code",
   "execution_count": null,
   "id": "4dc7f154",
   "metadata": {},
   "outputs": [],
   "source": []
  },
  {
   "cell_type": "code",
   "execution_count": null,
   "id": "35cc3c0d",
   "metadata": {},
   "outputs": [],
   "source": []
  }
 ],
 "metadata": {},
 "nbformat": 4,
 "nbformat_minor": 5
}

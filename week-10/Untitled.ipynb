{
 "cells": [
  {
   "cell_type": "code",
   "execution_count": null,
   "id": "495db647",
   "metadata": {},
   "outputs": [],
   "source": [
    "class shop():\n",
    "    price = 50\n",
    "    orange_num = int(input(\"How many oranges would you like to buy? \"))\n",
    "    print(\"Welcome!\\nWe hope you're well\")\n",
    "    def quantity(self, orange_num):\n",
    "        orange_num\n",
    "        if self.orange_num > 250:\n",
    "            obj.too_much(price,orange_num)\n",
    "        elif orange_num <= 250:\n",
    "            obj.successful(price, orange_num)\n",
    "    \n",
    "    def too_much(self, orange_num, price):\n",
    "        print(\"The reqiured amount currently isn't available currently\")\n",
    "        orange_num = int(input(\"Please input a lower amount \"))\n",
    "        if orange_num > 250:\n",
    "            obj.too_much(price,orange_num)\n",
    "        elif self.orange_num <= 250:\n",
    "            obj.successful(price, orange_num)\n",
    "    def successful(self, price, orange_num):\n",
    "        print(\"Your order has been successful\")\n",
    "        print(\"Your total cost is \",self.price * self.orange_num)\n",
    "            \n",
    "        \n",
    "\n",
    "obj = shop()\n",
    "obj.quantity(orange_num)"
   ]
  },
  {
   "cell_type": "code",
   "execution_count": null,
   "id": "5e6a007b",
   "metadata": {},
   "outputs": [],
   "source": []
  },
  {
   "cell_type": "code",
   "execution_count": null,
   "id": "8c38e020",
   "metadata": {},
   "outputs": [],
   "source": []
  }
 ],
 "metadata": {
  "kernelspec": {
   "display_name": "Python 3 (ipykernel)",
   "language": "python",
   "name": "python3"
  },
  "language_info": {
   "codemirror_mode": {
    "name": "ipython",
    "version": 3
   },
   "file_extension": ".py",
   "mimetype": "text/x-python",
   "name": "python",
   "nbconvert_exporter": "python",
   "pygments_lexer": "ipython3",
   "version": "3.10.9"
  }
 },
 "nbformat": 4,
 "nbformat_minor": 5
}

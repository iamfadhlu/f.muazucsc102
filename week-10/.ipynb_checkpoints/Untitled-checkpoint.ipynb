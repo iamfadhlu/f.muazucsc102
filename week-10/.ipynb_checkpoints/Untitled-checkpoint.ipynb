{
 "cells": [
  {
   "cell_type": "code",
   "execution_count": 3,
   "id": "495db647",
   "metadata": {},
   "outputs": [
    {
     "name": "stdout",
     "output_type": "stream",
     "text": [
      "How many oranges would you like to buy? 215\n",
      "Welcome!\n",
      "We hope you're well\n"
     ]
    },
    {
     "ename": "NameError",
     "evalue": "name 'orange_num' is not defined",
     "output_type": "error",
     "traceback": [
      "\u001b[1;31m---------------------------------------------------------------------------\u001b[0m",
      "\u001b[1;31mNameError\u001b[0m                                 Traceback (most recent call last)",
      "Cell \u001b[1;32mIn[3], line 25\u001b[0m\n\u001b[0;32m     23\u001b[0m \u001b[38;5;28mprint\u001b[39m(\u001b[38;5;124m\"\u001b[39m\u001b[38;5;124mWelcome!\u001b[39m\u001b[38;5;130;01m\\n\u001b[39;00m\u001b[38;5;124mWe hope you\u001b[39m\u001b[38;5;124m'\u001b[39m\u001b[38;5;124mre well\u001b[39m\u001b[38;5;124m\"\u001b[39m)\n\u001b[0;32m     24\u001b[0m obj \u001b[38;5;241m=\u001b[39m shop()\n\u001b[1;32m---> 25\u001b[0m obj\u001b[38;5;241m.\u001b[39mquantity(\u001b[43morange_num\u001b[49m)\n",
      "\u001b[1;31mNameError\u001b[0m: name 'orange_num' is not defined"
     ]
    }
   ],
   "source": [
    "class shop():\n",
    "    def quantity(self, orange_num):\n",
    "        if self.orange_num > 250:\n",
    "            obj.too_much(price,orange_num)\n",
    "        elif orange_num <= 250:\n",
    "            obj.successful(price, orange_num)\n",
    "    \n",
    "    def too_much(self, orange_num, price):\n",
    "        print(\"The reqiured amount currently isn't available currently\")\n",
    "        orange_num = int(input(\"Please input a lower amount \"))\n",
    "        if self.orange_num > 250:\n",
    "            obj.too_much(price)\n",
    "        elif self.orange_num <= 250:\n",
    "            obj.successful(price, orange_num)\n",
    "    def successful(self, price, orange_num):\n",
    "        print(\"Your order has been successful\")\n",
    "        print(\"Your total cost is \",self.price * self.orange_num)\n",
    "            \n",
    "        \n",
    "price = 50\n",
    "orange_num = int(input(\"How many oranges would you like to buy? \"))\n",
    "print(\"Welcome!\\nWe hope you're well\")\n",
    "obj = shop()\n",
    "obj.quantity(orange_num)"
   ]
  },
  {
   "cell_type": "code",
   "execution_count": null,
   "id": "5e6a007b",
   "metadata": {},
   "outputs": [],
   "source": []
  },
  {
   "cell_type": "code",
   "execution_count": null,
   "id": "8c38e020",
   "metadata": {},
   "outputs": [],
   "source": []
  }
 ],
 "metadata": {
  "kernelspec": {
   "display_name": "Python 3 (ipykernel)",
   "language": "python",
   "name": "python3"
  },
  "language_info": {
   "codemirror_mode": {
    "name": "ipython",
    "version": 3
   },
   "file_extension": ".py",
   "mimetype": "text/x-python",
   "name": "python",
   "nbconvert_exporter": "python",
   "pygments_lexer": "ipython3",
   "version": "3.10.9"
  }
 },
 "nbformat": 4,
 "nbformat_minor": 5
}

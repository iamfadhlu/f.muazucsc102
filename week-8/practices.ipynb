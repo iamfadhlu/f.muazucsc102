{
 "cells": [
  {
   "cell_type": "code",
   "execution_count": 1,
   "id": "a6b1e4c6",
   "metadata": {},
   "outputs": [],
   "source": [
    "class Parrot():\n",
    "    pass"
   ]
  },
  {
   "cell_type": "code",
   "execution_count": 7,
   "id": "1eec7901",
   "metadata": {},
   "outputs": [
    {
     "name": "stdout",
     "output_type": "stream",
     "text": [
      "mammal\n",
      "I'm a mammal\n",
      "I'm a dog\n"
     ]
    }
   ],
   "source": [
    "class Dog():\n",
    "    attr1 = \"mammal\"\n",
    "    attr2 = \"dog\"\n",
    "\n",
    "\n",
    "    def fun(self):\n",
    "        print(\"I'm a\", self.attr1)\n",
    "        print(\"I'm a\", self.attr2)\n",
    "\n",
    "\n",
    "Rodger = Dog()\n",
    "\n",
    "\n",
    "print(Rodger.attr1)\n",
    "Rodger.fun()"
   ]
  },
  {
   "cell_type": "code",
   "execution_count": 33,
   "id": "2910a7f6",
   "metadata": {},
   "outputs": [
    {
     "name": "stdout",
     "output_type": "stream",
     "text": [
      "Address of class object -  2499181364704\n",
      "Address of self =  2499181364704\n"
     ]
    }
   ],
   "source": [
    "class check:\n",
    "    def fun(self):\n",
    "        print(\"Address of self = \", id(self))\n",
    "        \n",
    "obj = check()\n",
    "print(\"Address of class object - \", id(obj))\n",
    "obj.fun()"
   ]
  },
  {
   "cell_type": "code",
   "execution_count": 43,
   "id": "ef063566",
   "metadata": {},
   "outputs": [
    {
     "name": "stdout",
     "output_type": "stream",
     "text": [
      "Model is Toyota Corolla\n",
      "Colour is Blue\n",
      "Model is Kia Cerato\n",
      "Colour is green\n"
     ]
    }
   ],
   "source": [
    "class car():\n",
    "    def __init__(self, model, colour):\n",
    "        self.mod = model\n",
    "        self.col = colour\n",
    "        \n",
    "        \n",
    "    def show(self):\n",
    "        print(\"Model is\", self.mod)\n",
    "        print(\"Colour is\", self.col)\n",
    "        \n",
    "toyota = car(\"Toyota Corolla\", \"Blue\")\n",
    "kia = car(\"Kia Cerato\", \"green\")\n",
    "toyota.show()\n",
    "kia.show()"
   ]
  },
  {
   "cell_type": "code",
   "execution_count": 37,
   "id": "5aabcddf",
   "metadata": {},
   "outputs": [
    {
     "name": "stdout",
     "output_type": "stream",
     "text": [
      "This is Constructor\n",
      "Worked fine\n"
     ]
    }
   ],
   "source": [
    "class check:\n",
    "    def __init__(self):\n",
    "        print(\"This is Constructor\")\n",
    "\n",
    "object = check()\n",
    "print(\"Worked fine\")"
   ]
  },
  {
   "cell_type": "code",
   "execution_count": 38,
   "id": "8b61255d",
   "metadata": {},
   "outputs": [
    {
     "name": "stdout",
     "output_type": "stream",
     "text": [
      "we have used another parameter name in place of self\n"
     ]
    }
   ],
   "source": [
    "class this_is_class:\n",
    "    def __init__(in_place_of_self):\n",
    "        print(\"we have used another \"\n",
    "        \"parameter name in place of self\")\n",
    "\n",
    "object = this_is_class()"
   ]
  },
  {
   "cell_type": "code",
   "execution_count": 27,
   "id": "c23d754c",
   "metadata": {},
   "outputs": [
    {
     "name": "stdout",
     "output_type": "stream",
     "text": [
      "Hello, my name is Hans Madugu\n"
     ]
    }
   ],
   "source": [
    "class Person:\n",
    "    def __init__(self, name):\n",
    "        self.name = name\n",
    "    \n",
    "    def say_hi(self):\n",
    "        print('Hello, my name is', self.name)\n",
    "\n",
    "p = Person('Hans Madugu')\n",
    "p.say_hi()\n"
   ]
  },
  {
   "cell_type": "code",
   "execution_count": 45,
   "id": "63d60434",
   "metadata": {},
   "outputs": [
    {
     "name": "stdout",
     "output_type": "stream",
     "text": [
      "Hello, my name is Enobasi\n",
      "Hello, my name is Leela\n",
      "Hello, my name is Divine\n"
     ]
    }
   ],
   "source": [
    "# Another class with init method\n",
    "class Person:\n",
    "\n",
    "    # init method or constructor\n",
    "    def __init__(self, name):\n",
    "        self.name = name\n",
    "\n",
    "    # Method\n",
    "    def say_hi(self):\n",
    "        print('Hello, my name is', self.name)\n",
    "\n",
    "# Creating different objects\n",
    "\n",
    "p1 = Person('Enobasi')\n",
    "p2 = Person('Leela')\n",
    "p3 = Person('Divine')\n",
    "\n",
    "p1.say_hi()\n",
    "p2.say_hi()\n",
    "p3.say_hi()\n"
   ]
  },
  {
   "cell_type": "code",
   "execution_count": 52,
   "id": "9053a304",
   "metadata": {},
   "outputs": [
    {
     "name": "stdout",
     "output_type": "stream",
     "text": [
      "CSC 102 - Introduction to Problem Solving\n"
     ]
    }
   ],
   "source": [
    "class Program:\n",
    "\n",
    "    # default constructor\n",
    "    def __init__(self):\n",
    "        self.course = \"CSC 102 - Introduction to Problem Solving\"\n",
    "\n",
    "    # a method for printing data members\n",
    "    def print_Course(self):\n",
    "        print(self.course)\n",
    "\n",
    "\n",
    "# creating object of the class\n",
    "obj = Program()\n",
    "\n",
    "# calling the instance method using the object obj\n",
    "obj.print_Course()\n"
   ]
  },
  {
   "cell_type": "code",
   "execution_count": 56,
   "id": "6ea1193b",
   "metadata": {},
   "outputs": [
    {
     "name": "stdout",
     "output_type": "stream",
     "text": [
      "Enter first number: 2\n",
      "Enter second number: 3\n",
      "First number = 2\n",
      "Second number = 3\n",
      "Addition of two numbers = 5\n"
     ]
    }
   ],
   "source": [
    "class Addition:\n",
    "    first = 0\n",
    "    second = 0\n",
    "    answer = 0\n",
    "    \n",
    "    # parameterized constructor\n",
    "    def __init__(self, f, s):\n",
    "        self.first = f\n",
    "        self.second = s\n",
    "\n",
    "    def display(self):\n",
    "        print(\"First number = \" + str(self.first))\n",
    "        print(\"Second number = \" + str(self.second))\n",
    "        print(\"Addition of two numbers = \" + str(self.answer))\n",
    "\n",
    "    def calculate(self):\n",
    "        self.answer = self.first + self.second\n",
    "\n",
    "# creating object of the class\n",
    "# this will invoke parameterized constructor\n",
    "num1 = int(input(\"Enter first number: \"))\n",
    "num2 = int(input(\"Enter second number: \"))\n",
    "obj = Addition(num1, num2)\n",
    "\n",
    "# perform Addition\n",
    "obj.calculate()\n",
    "\n",
    "# display result\n",
    "obj.display()"
   ]
  },
  {
   "cell_type": "code",
   "execution_count": 59,
   "id": "c56bc7c0",
   "metadata": {},
   "outputs": [
    {
     "name": "stdout",
     "output_type": "stream",
     "text": [
      "Oscar is a mammal\n",
      "Peaches is also a mammal\n",
      "My name is Oscar\n",
      "My name is Peaches\n"
     ]
    }
   ],
   "source": [
    "class Dog:\n",
    "\n",
    "    # class attribute\n",
    "    attr1 = \"mammal\"\n",
    "\n",
    "    # Instance attribute\n",
    "    def __init__(self, name):\n",
    "        self.name = name\n",
    "\n",
    "# Object instantiation\n",
    "dog1 = Dog(\"Oscar\")\n",
    "dog2 = Dog(\"Peaches\")\n",
    "\n",
    "# Accessing class attributes\n",
    "print(\"Oscar is a {}\".format(dog1.__class__.attr1))\n",
    "print(\"Peaches is also a {}\".format(dog2.__class__.attr1))\n",
    "\n",
    "# Accessing instance attributes\n",
    "print(\"My name is {}\".format(dog1.name))\n",
    "print(\"My name is {}\".format(dog2.name))\n"
   ]
  },
  {
   "cell_type": "code",
   "execution_count": 65,
   "id": "4df95657",
   "metadata": {},
   "outputs": [
    {
     "name": "stdout",
     "output_type": "stream",
     "text": [
      "Enter the name of the first student: weer\n",
      "My name is weer\n",
      "I'm studying Computer Science\n",
      "My name is Enter the name of the second student: \n",
      "I'm studying Computer Science\n"
     ]
    }
   ],
   "source": [
    "class SST:\n",
    "\n",
    "    # class attribute\n",
    "    prog1 = \"Computer Science\"\n",
    "\n",
    "    # Instance attribute\n",
    "    def __init__(self, name):\n",
    "        self.name = name\n",
    "\n",
    "    def speak(self):\n",
    "        print(\"My name is {}\".format(self.name))\n",
    "        print(\"I'm studying {}\".format(stud1.__class__.prog1))\n",
    "\n",
    "# Object instantiation\n",
    "stud1 = SST(input(\"Enter the name of the first student: \"))\n",
    "stud2 = SST(\"Enter the name of the second student: \")\n",
    "\n",
    "# Accessing class methods\n",
    "stud1.speak()\n",
    "stud2.speak()\n"
   ]
  },
  {
   "cell_type": "code",
   "execution_count": 69,
   "id": "ef906c67",
   "metadata": {},
   "outputs": [
    {
     "name": "stdout",
     "output_type": "stream",
     "text": [
      "Rodger deta|ils:\n",
      "Rodger is a dog\n",
      "Breed:  Pug\n",
      "Color:  brown\n",
      "\n",
      "Buzo details:\n",
      "Buzo is a dog\n",
      "Breed:  Bulldog\n",
      "Color:  black\n",
      "\n",
      "Accessing class variable using class name\n",
      "dog\n"
     ]
    }
   ],
   "source": [
    "class Dog:\n",
    "\n",
    "    # Class Variable\n",
    "    animal = 'dog'\n",
    "\n",
    "    # The init method or constructor\n",
    "    def __init__(self, breed, color):\n",
    "    \n",
    "        # Instance Variable\n",
    "        self.breed = breed\n",
    "        self.color = color\n",
    "    \n",
    "# Objects of Dog class\n",
    "Rodger = Dog(\"Pug\", \"brown\")\n",
    "Buzo = Dog(\"Bulldog\", \"black\")\n",
    "\n",
    "print('Rodger details:')\n",
    "print('Rodger is a', Rodger.animal)\n",
    "print('Breed: ', Rodger.breed)\n",
    "print('Color: ', Rodger.color)\n",
    "\n",
    "print('\\nBuzo details:')\n",
    "print('Buzo is a', Buzo.animal)\n",
    "print('Breed: ', Buzo.breed)\n",
    "print('Color: ', Buzo.color)\n",
    "\n",
    "# Class variables can be accessed using class\n",
    "# name also\n",
    "print(\"\\nAccessing class variable using class name\")\n",
    "print(Dog.animal)"
   ]
  },
  {
   "cell_type": "code",
   "execution_count": 72,
   "id": "9a33a143",
   "metadata": {},
   "outputs": [
    {
     "name": "stdout",
     "output_type": "stream",
     "text": [
      "brown\n"
     ]
    }
   ],
   "source": [
    "class Dog:\n",
    "\n",
    "    # Class Variable\n",
    "    animal = 'dog'\n",
    "\n",
    "    # The init method or constructor\n",
    "    def __init__(self, breed):\n",
    "\n",
    "        # Instance Variable\n",
    "        self.breed = breed\n",
    "\n",
    "    # Adds an instance variable\n",
    "    def setColor(self, color):\n",
    "        self.color = color\n",
    "\n",
    "    # Retrieves instance variable\n",
    "    def getColor(self):\n",
    "        return self.color\n",
    "\n",
    "# Object instantiation\n",
    "Rodger = Dog(\"pug\")\n",
    "Rodger.setColor(\"brown\")\n",
    "print(Rodger.getColor())"
   ]
  },
  {
   "cell_type": "code",
   "execution_count": null,
   "id": "0ad1885a",
   "metadata": {},
   "outputs": [],
   "source": []
  }
 ],
 "metadata": {
  "kernelspec": {
   "display_name": "Python 3 (ipykernel)",
   "language": "python",
   "name": "python3"
  },
  "language_info": {
   "codemirror_mode": {
    "name": "ipython",
    "version": 3
   },
   "file_extension": ".py",
   "mimetype": "text/x-python",
   "name": "python",
   "nbconvert_exporter": "python",
   "pygments_lexer": "ipython3",
   "version": "3.10.9"
  }
 },
 "nbformat": 4,
 "nbformat_minor": 5
}

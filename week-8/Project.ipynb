{
 "cells": [
  {
   "cell_type": "code",
   "execution_count": 34,
   "id": "4f085f7a",
   "metadata": {},
   "outputs": [
    {
     "ename": "TypeError",
     "evalue": "'employee' object is not callable",
     "output_type": "error",
     "traceback": [
      "\u001b[1;31m---------------------------------------------------------------------------\u001b[0m",
      "\u001b[1;31mTypeError\u001b[0m                                 Traceback (most recent call last)",
      "Cell \u001b[1;32mIn[34], line 21\u001b[0m\n\u001b[0;32m     19\u001b[0m         \u001b[38;5;28mprint\u001b[39m(\u001b[38;5;124m\"\u001b[39m\u001b[38;5;124mYou are not a staff as your name doesn\u001b[39m\u001b[38;5;124m'\u001b[39m\u001b[38;5;124mt exist in our records\u001b[39m\u001b[38;5;124m\"\u001b[39m)\n\u001b[0;32m     20\u001b[0m obj \u001b[38;5;241m=\u001b[39m employee()\n\u001b[1;32m---> 21\u001b[0m \u001b[43mobj\u001b[49m\u001b[43m(\u001b[49m\u001b[43m)\u001b[49m\n",
      "\u001b[1;31mTypeError\u001b[0m: 'employee' object is not callable"
     ]
    }
   ],
   "source": [
    "import random\n",
    "class employee():\n",
    "    employees = [\"Mary Evans\", \"Eyo Ishan\", \"Durojaiye Dare\", \"Adams Ali\", \"Andrew Ugwu\", \"Stella Mankinde\", \"Jane Akibo\", \"Ago James\", \"Michell Taiwo\", \"Abraham Jones\" , \"Nicole Anide\", \"Kosi Korso\", \"Adele Martins\", \"Emmanuel Ojo\", \"Ajayi Fatima\"]\n",
    "    tasks = [\"Loading\", \"Transporting\", \"Reveiwing Orders\", \"Customer Service\", \"Delivering Items\"]\n",
    "    def check_employee(self):\n",
    "        employee_name = input(\"What is your name? \")\n",
    "        if employee_name in self.employees:\n",
    "            print(\"Welcome \",employee_name)\n",
    "            obj.take_attendance()\n",
    "        else :\n",
    "            obj.refuse_access()\n",
    "    def take_attendance(self):\n",
    "        print(\"Attendance has been taken\")\n",
    "        obj.assign_task()\n",
    "    def assign_task(self):\n",
    "        task = random.choice(self.tasks)\n",
    "        print(\"Your assingned task is\",task)\n",
    "    def refuse_access(self):\n",
    "        print(\"You are not a staff as your name doesn't exist in our records\")\n",
    "obj = employee()\n",
    "for i in employees:\n",
    "    obj.check_employee()\n",
    "        \n",
    "\n",
    "        \n",
    "\n",
    "\n",
    "     \n",
    "        \n",
    "\n",
    "        \n",
    "        "
   ]
  },
  {
   "cell_type": "code",
   "execution_count": null,
   "id": "acae3bee",
   "metadata": {},
   "outputs": [],
   "source": []
  },
  {
   "cell_type": "code",
   "execution_count": null,
   "id": "cb4e8d95",
   "metadata": {},
   "outputs": [],
   "source": []
  }
 ],
 "metadata": {
  "kernelspec": {
   "display_name": "Python 3 (ipykernel)",
   "language": "python",
   "name": "python3"
  },
  "language_info": {
   "codemirror_mode": {
    "name": "ipython",
    "version": 3
   },
   "file_extension": ".py",
   "mimetype": "text/x-python",
   "name": "python",
   "nbconvert_exporter": "python",
   "pygments_lexer": "ipython3",
   "version": "3.10.9"
  }
 },
 "nbformat": 4,
 "nbformat_minor": 5
}

{
 "cells": [
  {
   "cell_type": "code",
   "execution_count": null,
   "id": "4f085f7a",
   "metadata": {},
   "outputs": [
    {
     "name": "stdout",
     "output_type": "stream",
     "text": [
      "What is your name? Fromeo\n",
      "You are not a staff as your name doesn't exist in our records\n",
      "What is your name? Eyo Ishan\n",
      "Welcome  Eyo Ishan\n",
      "Attendance has been taken\n",
      "Your assingned task is Reveiwing Orders\n",
      "What is your name? Mary Evans\n",
      "Welcome  Mary Evans\n",
      "Attendance has been taken\n",
      "Your assingned task is Loading\n"
     ]
    }
   ],
   "source": [
    "import random\n",
    "class employee():\n",
    "    employees = [\"Mary Evans\", \"Eyo Ishan\", \"Durojaiye Dare\", \"Adams Ali\", \"Andrew Ugwu\", \"Stella Mankinde\", \"Jane Akibo\", \"Ago James\", \"Michell Taiwo\", \"Abraham Jones\" , \"Nicole Anide\", \"Kosi Korso\", \"Adele Martins\", \"Emmanuel Ojo\", \"Ajayi Fatima\"]\n",
    "    tasks = [\"Loading\", \"Transporting\", \"Reveiwing Orders\", \"Customer Service\", \"Delivering Items\"]\n",
    "    def check_employee(self):\n",
    "        employee_name = input(\"What is your name? \")\n",
    "        if employee_name in self.employees:\n",
    "            print(\"Welcome \",employee_name)\n",
    "            obj.take_attendance()\n",
    "        else :\n",
    "            obj.refuse_access()\n",
    "    def take_attendance(self):\n",
    "        print(\"Attendance has been taken\")\n",
    "        obj.assign_task()\n",
    "    def assign_task(self):\n",
    "        task = random.choice(self.tasks)\n",
    "        print(\"Your assingned task is\",task)\n",
    "    def refuse_access(self):\n",
    "        print(\"You are not a staff as your name doesn't exist in our records\")\n",
    "obj = employee()\n",
    "for i in obj.employees:\n",
    "    obj.check_employee()\n",
    "        \n",
    "\n",
    "        \n",
    "\n",
    "\n",
    "     \n",
    "        \n",
    "\n",
    "        \n",
    "        "
   ]
  },
  {
   "cell_type": "code",
   "execution_count": 8,
   "id": "acae3bee",
   "metadata": {},
   "outputs": [
    {
     "name": "stdout",
     "output_type": "stream",
     "text": [
      "Where would you be delivering to?\n",
      "PAU or Epe? PAU\n",
      "How heavy is the package in kg? 32\n",
      "The price for delivery is #2000\n",
      "Thank you❤\n"
     ]
    }
   ],
   "source": [
    "class delivery():\n",
    "    def pau(self):\n",
    "        weight = int(input(\"How heavy is the package in kg? \"))\n",
    "        if weight >= 10:\n",
    "            print(\"The price for delivery is #2000\\nThank you❤\")\n",
    "        elif weight < 10:\n",
    "            print(\"The price for delivery is #1500\\nThank you❤\")\n",
    "    def epe(self):\n",
    "        weight = int(input(\"How heavy is the package in kg? \"))\n",
    "        if weight >= 10:\n",
    "            print(\"The price for delivery is #5000\\nThank you❤\")\n",
    "        elif weight < 10:\n",
    "            print(\"The price for delivery is #4000\\nThank you❤\")\n",
    "obj = delivery()\n",
    "location = input(\"Where would you be delivering to?\\nPAU or Epe? \")\n",
    "if location == \"PAU\":\n",
    "    obj.pau()\n",
    "elif location == \"Epe\":\n",
    "    obj.epe()\n",
    "else:\n",
    "    print(\"We currently don't deliver to that area, we are currently working to expand our horizons to satify you\")\n"
   ]
  },
  {
   "cell_type": "code",
   "execution_count": null,
   "id": "378c419e",
   "metadata": {},
   "outputs": [],
   "source": []
  }
 ],
 "metadata": {
  "kernelspec": {
   "display_name": "Python 3 (ipykernel)",
   "language": "python",
   "name": "python3"
  },
  "language_info": {
   "codemirror_mode": {
    "name": "ipython",
    "version": 3
   },
   "file_extension": ".py",
   "mimetype": "text/x-python",
   "name": "python",
   "nbconvert_exporter": "python",
   "pygments_lexer": "ipython3",
   "version": "3.10.9"
  }
 },
 "nbformat": 4,
 "nbformat_minor": 5
}

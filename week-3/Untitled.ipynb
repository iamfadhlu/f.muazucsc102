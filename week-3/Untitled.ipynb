{
 "cells": [
  {
   "cell_type": "code",
   "execution_count": 3,
   "id": "30ec4abf",
   "metadata": {},
   "outputs": [
    {
     "name": "stdout",
     "output_type": "stream",
     "text": [
      "Calculator of Cubic equation roots\n",
      "The format of a cubic equation is ax^3 + bx^2 + cx + d\n",
      "Where a, b and c are coefficients of x^3, x^2 and x respectively while d is a constant\n",
      "Enter a: 1\n",
      "Enter b: 4\n",
      "Enter c: 2\n",
      "Enter d: 4\n"
     ]
    }
   ],
   "source": [
    "print(\"Calculator of Cubic equation roots\")\n",
    "print(\"The format of a cubic equation is ax^3 + bx^2 + cx + d\")\n",
    "print(\"Where a, b and c are coefficients of x^3, x^2 and x respectively while d is a constant\")\n",
    "a = int(input(\"Enter a: \"))\n",
    "b = int(input(\"Enter b: \"))\n",
    "c = int(input(\"Enter c: \"))\n",
    "d = int(input(\"Enter d: \"))\n",
    "\n",
    "\n",
    "\n"
   ]
  },
  {
   "cell_type": "code",
   "execution_count": null,
   "id": "4051e084",
   "metadata": {},
   "outputs": [],
   "source": []
  }
 ],
 "metadata": {
  "kernelspec": {
   "display_name": "Python 3 (ipykernel)",
   "language": "python",
   "name": "python3"
  },
  "language_info": {
   "codemirror_mode": {
    "name": "ipython",
    "version": 3
   },
   "file_extension": ".py",
   "mimetype": "text/x-python",
   "name": "python",
   "nbconvert_exporter": "python",
   "pygments_lexer": "ipython3",
   "version": "3.10.9"
  }
 },
 "nbformat": 4,
 "nbformat_minor": 5
}

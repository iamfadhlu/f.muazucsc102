{
 "cells": [
  {
   "cell_type": "code",
   "execution_count": 4,
   "id": "0851e078",
   "metadata": {},
   "outputs": [
    {
     "ename": "DuplicateDatabase",
     "evalue": "database \"comp_sci_dpt\" already exists\n",
     "output_type": "error",
     "traceback": [
      "\u001b[1;31m---------------------------------------------------------------------------\u001b[0m",
      "\u001b[1;31mDuplicateDatabase\u001b[0m                         Traceback (most recent call last)",
      "Cell \u001b[1;32mIn[4], line 14\u001b[0m\n\u001b[0;32m     11\u001b[0m conn\u001b[38;5;241m.\u001b[39mautocommit \u001b[38;5;241m=\u001b[39m \u001b[38;5;28;01mTrue\u001b[39;00m\n\u001b[0;32m     12\u001b[0m cursor \u001b[38;5;241m=\u001b[39m conn\u001b[38;5;241m.\u001b[39mcursor()\n\u001b[1;32m---> 14\u001b[0m \u001b[43mcursor\u001b[49m\u001b[38;5;241;43m.\u001b[39;49m\u001b[43mexecute\u001b[49m\u001b[43m(\u001b[49m\u001b[38;5;124;43mf\u001b[39;49m\u001b[38;5;124;43m\"\u001b[39;49m\u001b[38;5;124;43mCREATE DATABASE \u001b[39;49m\u001b[38;5;132;43;01m{\u001b[39;49;00m\u001b[43mdb\u001b[49m\u001b[38;5;132;43;01m}\u001b[39;49;00m\u001b[38;5;124;43m;\u001b[39;49m\u001b[38;5;124;43m\"\u001b[39;49m\u001b[43m)\u001b[49m\n\u001b[0;32m     15\u001b[0m \u001b[38;5;28mprint\u001b[39m(\u001b[38;5;124m'\u001b[39m\u001b[38;5;124mDatabase Created!\u001b[39m\u001b[38;5;124m'\u001b[39m)\n\u001b[0;32m     16\u001b[0m cursor\u001b[38;5;241m.\u001b[39mclose()\n",
      "\u001b[1;31mDuplicateDatabase\u001b[0m: database \"comp_sci_dpt\" already exists\n"
     ]
    }
   ],
   "source": [
    "import psycopg2\n",
    "\n",
    "conn = psycopg2.connect(\n",
    "    host=\"localhost\",\n",
    "    port=\"5432\",\n",
    "    user=\"postgres\",\n",
    "    password=\"ChizimAwele-123.\"\n",
    ")\n",
    "\n",
    "db = \"comp_sci_dpt\"\n",
    "conn.autocommit = True\n",
    "cursor = conn.cursor()\n",
    "\n",
    "cursor.execute(f\"CREATE DATABASE {db};\")\n",
    "print('Database Created!')\n",
    "cursor.close()\n",
    "conn.close()"
   ]
  },
  {
   "cell_type": "code",
   "execution_count": 6,
   "id": "8cd68dfd",
   "metadata": {},
   "outputs": [],
   "source": [
    "import psycopg2\n",
    "\n",
    "conn = psycopg2.connect(\n",
    "    host=\"localhost\",\n",
    "    port=\"5432\",\n",
    "    user=\"postgres\",\n",
    "    database=\"comp_sci_dpt\",\n",
    "    password=\"ChizimAwele-123.\"\n",
    ")\n",
    "\n",
    "cursor = conn.cursor()\n",
    "table = '''\n",
    "    CREATE TABLE csc102_class_list (\n",
    "        first_name varchar,\n",
    "        middle_name varchar,\n",
    "        surname varchar  )\n",
    "'''\n",
    "\n",
    "cursor.execute(table)\n",
    "conn.commit()\n",
    "\n",
    "cursor.close()\n",
    "conn.close()"
   ]
  },
  {
   "cell_type": "code",
   "execution_count": 20,
   "id": "225f39a0",
   "metadata": {},
   "outputs": [],
   "source": [
    "import psycopg2\n",
    "\n",
    "conn = psycopg2.connect(\n",
    "    host=\"localhost\",\n",
    "    port=\"5432\",\n",
    "    user=\"postgres\",\n",
    "    database=\"comp_sci_dpt\",\n",
    "    password=\"ChizimAwele-123.\"\n",
    ")\n",
    "\n",
    "cursor = conn.cursor()\n",
    "\n",
    "insert = '''\n",
    "    INSERT INTO csc102_class_list (first_name, middle_name, surname)\n",
    "    VALUES (%s, %s, %s)\n",
    "'''\n",
    "\n",
    "fn =[\"Chukwuma\", \"Adebare\", \"Ikechukwu\", \"Ekenedirichukwu\", \"Isaac\", \"Enoabasi\", \"Joshua\", \"Emmanuel\", \"Fernando\", \"Nnaedoziem\", \"April\", \"Joshua\", \"Adaugo\", \"Gina\", \"Jesse\", \"Awele\", \"Jeremiah\", \"Ifunanya\", \"Ehi\", \"Emmanuel\", \"Chidubem\", \"AbdulRazaq\", \"Anuoluwapo\", \"Chisom\", \"Emmanuel\", \"Abdulaziz\", \"Godsgift\", \"Ayebaebifiri\", \"Ikenna\", \"Chinaecherem\", \"Basit\", \"Idameka\", \"Hans\", \"Hephzibah\", \"Ayomide\", \"Fadhilullahi\", \"Divine\", \"Jachimike\", \"Izuchukwu\", \"Emmanuel\", \"Collins\", \"Ajiri\", \"Chike\", \"Chiziterem\", \"Clinton\", \"Ezinne\", \"Henry\", \"Ayomide\", \"Daniel\", \"Chukwuebuka\", \"Chinonso\", \"Arnold\", \"Chiamaka\", \"Blessing\", \"Chibundum\", \"Emmanuel\", \"IcivirTer\", \"Dagogo\"]\n",
    "mn = [\"Sylvanus\", \"Ayomide\", \"David\", \"Mary\", \"Oluwatoyosi\", \"Ekong\", \"Onyekachukwu\", \"Chukwuka\", \"Peter\", \"Greene\", \"Tobechi\", \"Oghenakhogie\", \"Precious\", \"Oluwatamilore\", \"Agu\", \"Gabriela\", \"Chijioke\", \"Nicole\", \"Duke\", \"Osagie\", \"Michael\", \"Olamidotun\", \"Nosakhare Oluwadara Peter\", \"Onyekachi\", \"Oluwayomi\", \"Onoruoiza\", \"David\", \"Theodore\", \"Nicholas\", \"Samval\", \"Opeyemi\", \"Success\", \"Falke\", \"Manuela\", \"Abdulmalik\", \"Abdul-kadir\", \"Chidera\", \"MacCliff\", \"Francis\", \"Ogbogu\", \"Chukwudumebi\", \"Israel\", \"James\", \"Fortune\", \"Osita\", \"Favour\", \"Nkonyeasua\", \"Israel\", \"Kolawole\", \"Marcel\", \"Daniel\", \"Rume\", \"Obielumani\", \"Edidiong\", \"John\", \"Junior\", \"-\", \"Alfred\"]\n",
    "sn = [\"ABONYI\", \"ADESOKAN\", \"AGHACHI\", \"AKABOGU\", \"AKANDE\", \"AKPATA\", \"AKPE\", \"AMARAME\", \"AMEH\", \"ANIKE-NWEZE\", \"APAKAMA\", \"ASEKHAUNO\", \"BON-UNACHUKWU\", \"CAPTAIN-BRIGGS\", \"CHARLES-AGU\", \"CHIZIM\", \"DANIEL\", \"EGWUATU\", \"ELIJAH\", \"ERHUNMWUNSEE\", \"EZECHUKWU\", \"FEMI-SUNMONU\", \"FESTUS-OLAGBENDE\", \"GBULIE\", \"IBIKUNLE-AINA\", \"IBRAHIM\", \"IFEANYI\", \"IKOLI-SPIFF\", \"IKWUKA\", \"ILOKA\", \"INAOLAJI\", \"IYEUMAME\", \"MADUGU\", \"MANUEL\", \"MEMUD\", \"MUAZU\", \"NDUKWE\", \"NNADI\", \"NWACHUKWU\", \"ODEY\", \"ODOH-IFEANYI\", \"OGBALOR\", \"OKALA\", \"OKECHUKWU\", \"OKPARA\", \"OKPARA-NGBO\", \"OKWUDILI\", \"OLORUNDARE\", \"ONAKOYA\", \"ONYIBOR\", \"ORAKWE\", \"OROGUN\", \"OSUMILI\", \"SAKO\", \"UMEH\", \"USEN\", \"WASHIMA-MOHAMMED\", \"WILLIAM-JUMBO\"]\n",
    "\n",
    "for i in range(len(fn)):\n",
    "    values = (fn[i], mn[i], sn[i])\n",
    "    cursor.execute(insert, values)\n",
    "    \n",
    "  \n",
    "conn.commit()\n",
    "cursor.close()\n",
    "conn.close()"
   ]
  },
  {
   "cell_type": "code",
   "execution_count": null,
   "id": "1813ac12",
   "metadata": {},
   "outputs": [],
   "source": []
  }
 ],
 "metadata": {
  "kernelspec": {
   "display_name": "Python 3 (ipykernel)",
   "language": "python",
   "name": "python3"
  },
  "language_info": {
   "codemirror_mode": {
    "name": "ipython",
    "version": 3
   },
   "file_extension": ".py",
   "mimetype": "text/x-python",
   "name": "python",
   "nbconvert_exporter": "python",
   "pygments_lexer": "ipython3",
   "version": "3.10.9"
  }
 },
 "nbformat": 4,
 "nbformat_minor": 5
}
